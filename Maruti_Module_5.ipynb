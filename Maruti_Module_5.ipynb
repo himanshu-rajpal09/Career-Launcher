{
 "cells": [
  {
   "cell_type": "code",
   "execution_count": 1,
   "metadata": {},
   "outputs": [],
   "source": [
    "import pandas as pd\n",
    "import numpy as np\n",
    "from matplotlib import pyplot as plt\n",
    "%matplotlib inline"
   ]
  },
  {
   "cell_type": "code",
   "execution_count": 2,
   "metadata": {},
   "outputs": [],
   "source": [
    "df1 = pd.read_csv('C:\\\\Users\\\\Himanshu\\\\Downloads\\\\MARUTI.csv')\n",
    "df1 = df1[df1.Series == 'EQ']"
   ]
  },
  {
   "cell_type": "code",
   "execution_count": 3,
   "metadata": {},
   "outputs": [],
   "source": [
    "returns = df1['Close Price'].pct_change()*100\n",
    "daily_return_avg = returns.mean()\n",
    "daily_return_std = returns.std()"
   ]
  },
  {
   "cell_type": "code",
   "execution_count": 4,
   "metadata": {},
   "outputs": [],
   "source": [
    "annual_return = 252*daily_return_avg\n",
    "volatility = np.sqrt(252)*daily_return_std"
   ]
  },
  {
   "cell_type": "code",
   "execution_count": 5,
   "metadata": {},
   "outputs": [],
   "source": [
    "df2 = pd.read_csv('C:\\\\Users\\\\Himanshu\\\\Downloads\\\\CENTURYPLY.csv')\n",
    "df3 = pd.read_csv('C:\\\\Users\\\\Himanshu\\\\Downloads\\\\JETAIRWAYS.csv')\n",
    "df4 = pd.read_csv('C:\\\\Users\\\\Himanshu\\\\Downloads\\\\HINDUNILVR.csv')\n",
    "df5 = pd.read_csv('C:\\\\Users\\\\Himanshu\\\\Downloads\\\\BAJFINANCE.csv')\n",
    "df6 = pd.read_csv('C:\\\\Users\\\\Himanshu\\\\Downloads\\\\VOLTAS.csv')\n",
    "\n",
    "df2 = df2[df2.Series == 'EQ']\n",
    "df3 = df3[df3.Series == 'EQ']\n",
    "df4 = df4[df4.Series == 'EQ']\n",
    "df5 = df5[df5.Series == 'EQ']\n",
    "df6 = df6[df6.Series == 'EQ']"
   ]
  },
  {
   "cell_type": "code",
   "execution_count": 6,
   "metadata": {},
   "outputs": [],
   "source": [
    "df2 = df2.reset_index()\n",
    "df3 = df3.reset_index()\n",
    "df4 = df4.reset_index()\n",
    "df5 = df5.reset_index()\n",
    "df6 = df6.reset_index()"
   ]
  },
  {
   "cell_type": "code",
   "execution_count": 7,
   "metadata": {},
   "outputs": [],
   "source": [
    "df7 = pd.concat([df2['Close Price'], df3['Close Price'], df4['Close Price'], df5['Close Price'], df6['Close Price']], axis =1, keys=['Century', 'Jet','Hindus','Bajaj','Voltas'])"
   ]
  },
  {
   "cell_type": "code",
   "execution_count": 8,
   "metadata": {},
   "outputs": [
    {
     "data": {
      "text/html": [
       "<div>\n",
       "<style scoped>\n",
       "    .dataframe tbody tr th:only-of-type {\n",
       "        vertical-align: middle;\n",
       "    }\n",
       "\n",
       "    .dataframe tbody tr th {\n",
       "        vertical-align: top;\n",
       "    }\n",
       "\n",
       "    .dataframe thead th {\n",
       "        text-align: right;\n",
       "    }\n",
       "</style>\n",
       "<table border=\"1\" class=\"dataframe\">\n",
       "  <thead>\n",
       "    <tr style=\"text-align: right;\">\n",
       "      <th></th>\n",
       "      <th>Century</th>\n",
       "      <th>Jet</th>\n",
       "      <th>Hindus</th>\n",
       "      <th>Bajaj</th>\n",
       "      <th>Voltas</th>\n",
       "    </tr>\n",
       "  </thead>\n",
       "  <tbody>\n",
       "    <tr>\n",
       "      <th>0</th>\n",
       "      <td>266.65</td>\n",
       "      <td>527.50</td>\n",
       "      <td>983.25</td>\n",
       "      <td>1332.95</td>\n",
       "      <td>431.85</td>\n",
       "    </tr>\n",
       "    <tr>\n",
       "      <th>1</th>\n",
       "      <td>266.10</td>\n",
       "      <td>534.15</td>\n",
       "      <td>1000.40</td>\n",
       "      <td>1347.75</td>\n",
       "      <td>432.45</td>\n",
       "    </tr>\n",
       "    <tr>\n",
       "      <th>2</th>\n",
       "      <td>264.85</td>\n",
       "      <td>528.90</td>\n",
       "      <td>1009.40</td>\n",
       "      <td>1324.80</td>\n",
       "      <td>430.20</td>\n",
       "    </tr>\n",
       "    <tr>\n",
       "      <th>3</th>\n",
       "      <td>260.35</td>\n",
       "      <td>522.70</td>\n",
       "      <td>990.25</td>\n",
       "      <td>1314.55</td>\n",
       "      <td>414.10</td>\n",
       "    </tr>\n",
       "    <tr>\n",
       "      <th>4</th>\n",
       "      <td>254.05</td>\n",
       "      <td>520.40</td>\n",
       "      <td>1008.00</td>\n",
       "      <td>1289.15</td>\n",
       "      <td>415.75</td>\n",
       "    </tr>\n",
       "  </tbody>\n",
       "</table>\n",
       "</div>"
      ],
      "text/plain": [
       "   Century     Jet   Hindus    Bajaj  Voltas\n",
       "0   266.65  527.50   983.25  1332.95  431.85\n",
       "1   266.10  534.15  1000.40  1347.75  432.45\n",
       "2   264.85  528.90  1009.40  1324.80  430.20\n",
       "3   260.35  522.70   990.25  1314.55  414.10\n",
       "4   254.05  520.40  1008.00  1289.15  415.75"
      ]
     },
     "execution_count": 8,
     "metadata": {},
     "output_type": "execute_result"
    }
   ],
   "source": [
    "df7.head()"
   ]
  },
  {
   "cell_type": "code",
   "execution_count": 9,
   "metadata": {},
   "outputs": [],
   "source": [
    "returns_new = df7.pct_change()"
   ]
  },
  {
   "cell_type": "code",
   "execution_count": 10,
   "metadata": {},
   "outputs": [
    {
     "data": {
      "text/html": [
       "<div>\n",
       "<style scoped>\n",
       "    .dataframe tbody tr th:only-of-type {\n",
       "        vertical-align: middle;\n",
       "    }\n",
       "\n",
       "    .dataframe tbody tr th {\n",
       "        vertical-align: top;\n",
       "    }\n",
       "\n",
       "    .dataframe thead th {\n",
       "        text-align: right;\n",
       "    }\n",
       "</style>\n",
       "<table border=\"1\" class=\"dataframe\">\n",
       "  <thead>\n",
       "    <tr style=\"text-align: right;\">\n",
       "      <th></th>\n",
       "      <th>Century</th>\n",
       "      <th>Jet</th>\n",
       "      <th>Hindus</th>\n",
       "      <th>Bajaj</th>\n",
       "      <th>Voltas</th>\n",
       "    </tr>\n",
       "  </thead>\n",
       "  <tbody>\n",
       "    <tr>\n",
       "      <th>Century</th>\n",
       "      <td>0.140827</td>\n",
       "      <td>0.053165</td>\n",
       "      <td>0.005474</td>\n",
       "      <td>0.031163</td>\n",
       "      <td>0.034539</td>\n",
       "    </tr>\n",
       "    <tr>\n",
       "      <th>Jet</th>\n",
       "      <td>0.053165</td>\n",
       "      <td>0.390442</td>\n",
       "      <td>0.008858</td>\n",
       "      <td>0.044382</td>\n",
       "      <td>0.043243</td>\n",
       "    </tr>\n",
       "    <tr>\n",
       "      <th>Hindus</th>\n",
       "      <td>0.005474</td>\n",
       "      <td>0.008858</td>\n",
       "      <td>0.037652</td>\n",
       "      <td>0.011735</td>\n",
       "      <td>0.012599</td>\n",
       "    </tr>\n",
       "    <tr>\n",
       "      <th>Bajaj</th>\n",
       "      <td>0.031163</td>\n",
       "      <td>0.044382</td>\n",
       "      <td>0.011735</td>\n",
       "      <td>0.103079</td>\n",
       "      <td>0.034878</td>\n",
       "    </tr>\n",
       "    <tr>\n",
       "      <th>Voltas</th>\n",
       "      <td>0.034539</td>\n",
       "      <td>0.043243</td>\n",
       "      <td>0.012599</td>\n",
       "      <td>0.034878</td>\n",
       "      <td>0.095078</td>\n",
       "    </tr>\n",
       "  </tbody>\n",
       "</table>\n",
       "</div>"
      ],
      "text/plain": [
       "          Century       Jet    Hindus     Bajaj    Voltas\n",
       "Century  0.140827  0.053165  0.005474  0.031163  0.034539\n",
       "Jet      0.053165  0.390442  0.008858  0.044382  0.043243\n",
       "Hindus   0.005474  0.008858  0.037652  0.011735  0.012599\n",
       "Bajaj    0.031163  0.044382  0.011735  0.103079  0.034878\n",
       "Voltas   0.034539  0.043243  0.012599  0.034878  0.095078"
      ]
     },
     "execution_count": 10,
     "metadata": {},
     "output_type": "execute_result"
    }
   ],
   "source": [
    "cov_matrix_annual = returns_new.cov() * 252\n",
    "cov_matrix_annual"
   ]
  },
  {
   "cell_type": "code",
   "execution_count": 66,
   "metadata": {},
   "outputs": [
    {
     "data": {
      "text/plain": [
       "0.053085903134253515"
      ]
     },
     "execution_count": 66,
     "metadata": {},
     "output_type": "execute_result"
    }
   ],
   "source": [
    "weights = np.array([0.2,0.2,0.2,0.2,0.2])\n",
    "port_variance = np.dot(weights.T,np.dot(cov_matrix_annual, weights))\n",
    "port_variance"
   ]
  },
  {
   "cell_type": "code",
   "execution_count": 12,
   "metadata": {},
   "outputs": [
    {
     "data": {
      "text/plain": [
       "0.23040378281237814"
      ]
     },
     "execution_count": 12,
     "metadata": {},
     "output_type": "execute_result"
    }
   ],
   "source": [
    "port_volatility = np.sqrt(port_variance)\n",
    "port_volatility"
   ]
  },
  {
   "cell_type": "code",
   "execution_count": 13,
   "metadata": {},
   "outputs": [
    {
     "data": {
      "text/plain": [
       "0.05627665195642344"
      ]
     },
     "execution_count": 13,
     "metadata": {},
     "output_type": "execute_result"
    }
   ],
   "source": [
    "portfolio_simple_annual_return = np.sum(returns_new.mean()*weights) *252\n",
    "portfolio_simple_annual_return"
   ]
  },
  {
   "cell_type": "code",
   "execution_count": 14,
   "metadata": {},
   "outputs": [
    {
     "name": "stdout",
     "output_type": "stream",
     "text": [
      "Expected annual return : 6.0%\n",
      "Annual volatility/standard deviation/risk : 23.0%\n",
      "Annual variance : 5.0%\n"
     ]
    }
   ],
   "source": [
    "percent_var = str(round(port_variance, 2) * 100) + '%'\n",
    "percent_vols = str(round(port_volatility, 2) * 100) + '%'\n",
    "percent_ret = str(round(portfolio_simple_annual_return, 2)*100)+'%'\n",
    "print(\"Expected annual return : \"+ percent_ret)\n",
    "print('Annual volatility/standard deviation/risk : '+percent_vols)\n",
    "print('Annual variance : '+percent_var)"
   ]
  },
  {
   "cell_type": "code",
   "execution_count": 74,
   "metadata": {},
   "outputs": [],
   "source": [
    "df7.sort_index(inplace=True)"
   ]
  },
  {
   "cell_type": "code",
   "execution_count": 75,
   "metadata": {},
   "outputs": [],
   "source": [
    "returns = df7.pct_change()"
   ]
  },
  {
   "cell_type": "code",
   "execution_count": 73,
   "metadata": {},
   "outputs": [],
   "source": [
    "mean_daily_returns = returns.mean()\n",
    "cov_matrix = returns.cov()"
   ]
  },
  {
   "cell_type": "code",
   "execution_count": 40,
   "metadata": {},
   "outputs": [],
   "source": [
    "stocks = ['Century', 'Jet', 'Hindus', 'Bajaj', 'Voltas']"
   ]
  },
  {
   "cell_type": "code",
   "execution_count": 76,
   "metadata": {},
   "outputs": [],
   "source": [
    "num_portfolios = 25000"
   ]
  },
  {
   "cell_type": "code",
   "execution_count": 77,
   "metadata": {},
   "outputs": [],
   "source": [
    "results = np.zeros((4+len(stocks)-1,num_portfolios))"
   ]
  },
  {
   "cell_type": "code",
   "execution_count": 80,
   "metadata": {},
   "outputs": [],
   "source": [
    "for i in range(num_portfolios):\n",
    "    weights = np.array(np.random.random(5))\n",
    "    weights /= np.sum(weights)"
   ]
  },
  {
   "cell_type": "code",
   "execution_count": 81,
   "metadata": {},
   "outputs": [],
   "source": [
    "portfolio_return = np.sum(mean_daily_returns * weights) * 252\n",
    "portfolio_std_dev = np.sqrt(np.dot(weights.T,np.dot(cov_matrix, weights))) * np.sqrt(252)"
   ]
  },
  {
   "cell_type": "code",
   "execution_count": 82,
   "metadata": {},
   "outputs": [],
   "source": [
    "results[0,i] = portfolio_return\n",
    "results[1,i] = portfolio_std_dev\n",
    "results[2,i] = results[0,i] / results[1,i]\n",
    "for j in range(len(weights)):\n",
    "    results[j+3,i] = weights[j]"
   ]
  },
  {
   "cell_type": "code",
   "execution_count": 84,
   "metadata": {},
   "outputs": [],
   "source": [
    "results_frame = pd.DataFrame(results.T,columns=['ret','stdev','sharpe',stocks[0],stocks[1],stocks[2],stocks[3],stocks[4]])"
   ]
  },
  {
   "cell_type": "code",
   "execution_count": 85,
   "metadata": {},
   "outputs": [],
   "source": [
    "max_sharpe_port = results_frame.iloc[results_frame['sharpe'].idxmax()]\n",
    "min_vol_port = results_frame.iloc[results_frame['stdev'].idxmin()]"
   ]
  },
  {
   "cell_type": "code",
   "execution_count": 86,
   "metadata": {},
   "outputs": [
    {
     "data": {
      "text/plain": [
       "<matplotlib.collections.PathCollection at 0x2f33b120308>"
      ]
     },
     "execution_count": 86,
     "metadata": {},
     "output_type": "execute_result"
    },
    {
     "data": {
      "image/png": "[encoded data removed]",
      "text/plain": [
       "<Figure size 432x288 with 2 Axes>"
      ]
     },
     "metadata": {
      "needs_background": "light"
     },
     "output_type": "display_data"
    }
   ],
   "source": [
    "plt.scatter(results_frame.stdev,results_frame.ret,c=results_frame.sharpe,cmap='RdYlBu')\n",
    "plt.xlabel('Volatility')\n",
    "plt.ylabel('Returns')\n",
    "plt.colorbar()\n",
    "plt.scatter(max_sharpe_port[1],max_sharpe_port[0],marker=(5,1,0),color='r',s=1000)\n",
    "plt.scatter(min_vol_port[1],min_vol_port[0],marker=(5,1,0),color='g',s=1000)"
   ]
  },
  {
   "cell_type": "code",
   "execution_count": 87,
   "metadata": {},
   "outputs": [
    {
     "name": "stdout",
     "output_type": "stream",
     "text": [
      "ret        0.056879\n",
      "stdev      0.258114\n",
      "sharpe     0.220363\n",
      "Century    0.228698\n",
      "Jet        0.196524\n",
      "Hindus     0.016884\n",
      "Bajaj      0.309460\n",
      "Voltas     0.248435\n",
      "Name: 24999, dtype: float64\n"
     ]
    }
   ],
   "source": [
    "print(max_sharpe_port)"
   ]
  },
  {
   "cell_type": "code",
   "execution_count": 88,
   "metadata": {},
   "outputs": [
    {
     "name": "stdout",
     "output_type": "stream",
     "text": [
      "ret        0.0\n",
      "stdev      0.0\n",
      "sharpe     0.0\n",
      "Century    0.0\n",
      "Jet        0.0\n",
      "Hindus     0.0\n",
      "Bajaj      0.0\n",
      "Voltas     0.0\n",
      "Name: 0, dtype: float64\n"
     ]
    }
   ],
   "source": [
    "print(min_vol_port)"
   ]
  }
 ],
 "metadata": {
  "kernelspec": {
   "display_name": "Python 3",
   "language": "python",
   "name": "python3"
  },
  "language_info": {
   "codemirror_mode": {
    "name": "ipython",
    "version": 3
   },
   "file_extension": ".py",
   "mimetype": "text/x-python",
   "name": "python",
   "nbconvert_exporter": "python",
   "pygments_lexer": "ipython3",
   "version": "3.7.6"
  }
 },
 "nbformat": 4,
 "nbformat_minor": 4
}
